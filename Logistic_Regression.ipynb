{
 "cells": [
  {
   "cell_type": "code",
   "execution_count": 1,
   "metadata": {
    "collapsed": true
   },
   "outputs": [],
   "source": [
    "import numpy as np\n",
    "import csv\n",
    "from sklearn import linear_model, datasets, tree\n",
    "import matplotlib.pyplot as plt\n",
    "%matplotlib inline"
   ]
  },
  {
   "cell_type": "code",
   "execution_count": 14,
   "metadata": {
    "collapsed": false
   },
   "outputs": [],
   "source": [
    "X = np.empty((0,66), float)\n",
    "Y = np.empty(0, str)\n",
    "i = 0\n",
    "r = csv.reader(open('Features/Normalizedfeatures.csv',\"rb\"),delimiter=',') # Here your csv file\n",
    "for l in r:\n",
    "    if i == 1:\n",
    "        X = np.append(X, np.array([l[0:66]]), axis=0)\n",
    "        Y = np.append(Y, np.array([l[66]]), axis=0)\n",
    "    else:\n",
    "        i = 1\n",
    "        features = l[0:66]\n",
    "        output = l[66]\n",
    "        \n",
    "X = X.astype(float)\n",
    "Y = Y.astype(str)"
   ]
  },
  {
   "cell_type": "code",
   "execution_count": 15,
   "metadata": {
    "collapsed": false
   },
   "outputs": [],
   "source": [
    "number_of_samples = len(Y)\n",
    "#Splitting into training, validation and test sets\n",
    "random_indices = np.random.permutation(number_of_samples)\n",
    "#Training set\n",
    "num_training_samples = int(number_of_samples*0.60)\n",
    "X_train = X[random_indices[:num_training_samples]]\n",
    "Y_train = Y[random_indices[:num_training_samples]]\n",
    "#Validation set\n",
    "num_validation_samples = int(number_of_samples*0.20)\n",
    "X_val = X[random_indices[num_training_samples : num_training_samples+num_validation_samples]]\n",
    "Y_val = Y[random_indices[num_training_samples: num_training_samples+num_validation_samples]]\n",
    "#Test set\n",
    "num_test_samples = int(number_of_samples*0.20)\n",
    "X_test = X[random_indices[-num_test_samples:]]\n",
    "Y_test = Y[random_indices[-num_test_samples:]]"
   ]
  },
  {
   "cell_type": "code",
   "execution_count": 24,
   "metadata": {
    "collapsed": false
   },
   "outputs": [
    {
     "data": {
      "text/plain": [
       "LogisticRegression(C=100000.0, class_weight=None, dual=False,\n",
       "          fit_intercept=True, intercept_scaling=1, max_iter=100,\n",
       "          multi_class='ovr', n_jobs=1, penalty='l2', random_state=None,\n",
       "          solver='liblinear', tol=0.0001, verbose=0, warm_start=False)"
      ]
     },
     "execution_count": 24,
     "metadata": {},
     "output_type": "execute_result"
    }
   ],
   "source": [
    "model = linear_model.LogisticRegression(C=1e5)#C is the inverse of the regularization factor\n",
    "model.fit(X_train,Y_train)"
   ]
  },
  {
   "cell_type": "code",
   "execution_count": 26,
   "metadata": {
    "collapsed": false
   },
   "outputs": [
    {
     "name": "stdout",
     "output_type": "stream",
     "text": [
      "validation misclassification percentage = 34.0425531915 %\n",
      "test misclassification percentage = 34.7517730496 %\n"
     ]
    }
   ],
   "source": [
    "validation_set_predictions = [model.predict(X_val[i].reshape((1,len(X_val[0]))))[0] for i in range(X_val.shape[0])]\n",
    "validation_misclassification_percentage = 0.0\n",
    "for i in range(len(validation_set_predictions)):\n",
    "    if validation_set_predictions[i]!=Y_val[i]:\n",
    "        validation_misclassification_percentage+=1.0\n",
    "validation_misclassification_percentage *= 100.0/len(Y_val)\n",
    "print 'validation misclassification percentage =', validation_misclassification_percentage, '%'\n",
    "\n",
    "test_set_predictions = [model.predict(X_test[i].reshape((1,len(X_test[0]))))[0] for i in range(X_test.shape[0])]\n",
    "\n",
    "test_misclassification_percentage = 0.0\n",
    "for i in range(len(test_set_predictions)):\n",
    "    if test_set_predictions[i]!=Y_test[i]:\n",
    "        test_misclassification_percentage+=1.0\n",
    "test_misclassification_percentage *= 100.0/len(Y_test)\n",
    "print 'test misclassification percentage =', test_misclassification_percentage, '%'"
   ]
  },
  {
   "cell_type": "code",
   "execution_count": null,
   "metadata": {
    "collapsed": true
   },
   "outputs": [],
   "source": []
  }
 ],
 "metadata": {
  "anaconda-cloud": {},
  "kernelspec": {
   "display_name": "Python 2",
   "language": "python",
   "name": "python2"
  },
  "language_info": {
   "codemirror_mode": {
    "name": "ipython",
    "version": 2
   },
   "file_extension": ".py",
   "mimetype": "text/x-python",
   "name": "python",
   "nbconvert_exporter": "python",
   "pygments_lexer": "ipython2",
   "version": "2.7.10"
  }
 },
 "nbformat": 4,
 "nbformat_minor": 0
}
