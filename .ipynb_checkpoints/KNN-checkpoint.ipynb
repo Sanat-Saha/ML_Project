{
 "cells": [
  {
   "cell_type": "code",
   "execution_count": 1,
   "metadata": {
    "collapsed": false
   },
   "outputs": [],
   "source": [
    "from __future__ import print_function\n",
    "\n",
    "import numpy as np\n",
    "import csv\n",
    "from sklearn import datasets, neighbors, linear_model, tree\n",
    "from sklearn.decomposition import PCA\n",
    "from sklearn.neighbors import KNeighborsClassifier\n",
    "from sklearn.datasets import load_iris, fetch_olivetti_faces\n",
    "from sklearn.decomposition import RandomizedPCA\n",
    "from sklearn.metrics import classification_report\n",
    "from sklearn.metrics import confusion_matrix\n",
    "import matplotlib.pyplot as plt\n",
    "from time import time\n",
    "%matplotlib inline"
   ]
  },
  {
   "cell_type": "code",
   "execution_count": 2,
   "metadata": {
    "collapsed": true
   },
   "outputs": [],
   "source": [
    "X = np.empty((0,66), float)\n",
    "Y = np.empty(0, str)\n",
    "i = 0\n",
    "r = csv.reader(open('Features/Normalizedfeatures.csv',\"rb\"),delimiter=',') # Here your csv file\n",
    "for l in r:\n",
    "    if i == 1:\n",
    "        X = np.append(X, np.array([l[0:66]]), axis=0)\n",
    "        Y = np.append(Y, np.array([l[66]]), axis=0)\n",
    "    else:\n",
    "        i = 1\n",
    "        features = l[0:66]\n",
    "        output = l[66]\n",
    "        \n",
    "X = X.astype(float)\n",
    "Y = Y.astype(str)"
   ]
  },
  {
   "cell_type": "code",
   "execution_count": 3,
   "metadata": {
    "collapsed": false
   },
   "outputs": [],
   "source": [
    "number_of_samples = len(Y)\n",
    "#Splitting into training, validation and test sets\n",
    "random_indices = np.random.permutation(number_of_samples)\n",
    "#Training set\n",
    "num_training_samples = int(number_of_samples*0.60)\n",
    "X_train = X[random_indices[:num_training_samples]]\n",
    "Y_train = Y[random_indices[:num_training_samples]]\n",
    "#Validation set\n",
    "num_validation_samples = int(number_of_samples*0.20)\n",
    "X_val = X[random_indices[num_training_samples : num_training_samples+num_validation_samples]]\n",
    "Y_val = Y[random_indices[num_training_samples: num_training_samples+num_validation_samples]]\n",
    "#Test set\n",
    "num_test_samples = int(number_of_samples*0.20)\n",
    "X_test = X[random_indices[-num_test_samples:]]\n",
    "Y_test = Y[random_indices[-num_test_samples:]]"
   ]
  },
  {
   "cell_type": "code",
   "execution_count": 4,
   "metadata": {
    "collapsed": false
   },
   "outputs": [
    {
     "data": {
      "text/plain": [
       "KNeighborsClassifier(algorithm='auto', leaf_size=30, metric='minkowski',\n",
       "           metric_params=None, n_jobs=1, n_neighbors=5, p=2,\n",
       "           weights='uniform')"
      ]
     },
     "execution_count": 4,
     "metadata": {},
     "output_type": "execute_result"
    }
   ],
   "source": [
    "model = neighbors.KNeighborsClassifier(n_neighbors = 5) # K = 5\n",
    "model.fit(X_train, Y_train)"
   ]
  },
  {
   "cell_type": "code",
   "execution_count": 5,
   "metadata": {
    "collapsed": true
   },
   "outputs": [],
   "source": [
    "def evaluate_performance(model, X_test, Y_test):\n",
    "    test_set_predictions = [model.predict(X_test[i].reshape((1,len(X_test[i]))))[0] for i in range(X_test.shape[0])]\n",
    "    test_misclassification_percentage = 0.0\n",
    "    for i in range(len(test_set_predictions)):\n",
    "        if test_set_predictions[i]!=Y_test[i]:\n",
    "            test_misclassification_percentage+=1.0\n",
    "    test_misclassification_percentage *= 100.0/len(Y_test)\n",
    "    return test_misclassification_percentage"
   ]
  },
  {
   "cell_type": "code",
   "execution_count": 6,
   "metadata": {
    "collapsed": false
   },
   "outputs": [
    {
     "name": "stdout",
     "output_type": "stream",
     "text": [
      "Evaluating K-NN classifier:\n",
      "val misclassification percentage = 30.8510638298%\n",
      "test misclassification percentage = 30.8510638298%\n"
     ]
    }
   ],
   "source": [
    "print(\"Evaluating K-NN classifier:\")\n",
    "val_err = evaluate_performance(model, X_val, Y_val)\n",
    "print('val misclassification percentage = {}%'.format(val_err))\n",
    "test_err = evaluate_performance(model, X_test, Y_test)\n",
    "print('test misclassification percentage = {}%'.format(test_err))"
   ]
  }
 ],
 "metadata": {
  "anaconda-cloud": {},
  "kernelspec": {
   "display_name": "Python [Root]",
   "language": "python",
   "name": "Python [Root]"
  },
  "language_info": {
   "codemirror_mode": {
    "name": "ipython",
    "version": 2
   },
   "file_extension": ".py",
   "mimetype": "text/x-python",
   "name": "python",
   "nbconvert_exporter": "python",
   "pygments_lexer": "ipython2",
   "version": "2.7.12"
  }
 },
 "nbformat": 4,
 "nbformat_minor": 0
}
