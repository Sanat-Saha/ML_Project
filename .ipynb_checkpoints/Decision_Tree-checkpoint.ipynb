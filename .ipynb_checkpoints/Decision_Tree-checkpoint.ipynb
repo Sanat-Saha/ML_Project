{
 "cells": [
  {
   "cell_type": "code",
   "execution_count": 1,
   "metadata": {
    "collapsed": true
   },
   "outputs": [],
   "source": [
    "import numpy as np\n",
    "import csv\n",
    "from sklearn import linear_model, datasets, tree\n",
    "import matplotlib.pyplot as plt\n",
    "%matplotlib inline"
   ]
  },
  {
   "cell_type": "code",
   "execution_count": 2,
   "metadata": {
    "collapsed": false
   },
   "outputs": [],
   "source": [
    "X = np.empty((0,66), float)\n",
    "Y = np.empty(0, str)\n",
    "i = 0\n",
    "r = csv.reader(open('Features/Normalizedfeatures.csv',\"rb\"),delimiter=',') # Here your csv file\n",
    "for l in r:\n",
    "    if i == 1:\n",
    "        X = np.append(X, np.array([l[0:66]]), axis=0)\n",
    "        Y = np.append(Y, np.array([l[66]]), axis=0)\n",
    "    else:\n",
    "        i = 1\n",
    "        features = l[0:66]\n",
    "        output = l[66]\n",
    "        \n",
    "X = X.astype(float)\n",
    "Y = Y.astype(str)"
   ]
  },
  {
   "cell_type": "code",
   "execution_count": 3,
   "metadata": {
    "collapsed": true
   },
   "outputs": [],
   "source": [
    "number_of_samples = len(Y)\n",
    "#Splitting into training, validation and test sets\n",
    "random_indices = np.random.permutation(number_of_samples)\n",
    "#Training set\n",
    "num_training_samples = int(number_of_samples*0.7)\n",
    "x_train = X[random_indices[:num_training_samples]]\n",
    "y_train = Y[random_indices[:num_training_samples]]\n",
    "# #Validation set\n",
    "# num_validation_samples = int(number_of_samples*0.15)\n",
    "# x_val = X[random_indices[num_training_samples : num_training_samples+num_validation_samples]]\n",
    "# y_val = Y[random_indices[num_training_samples: num_training_samples+num_validation_samples]]\n",
    "#Test set\n",
    "num_test_samples = int(number_of_samples*0.3)\n",
    "x_test = X[random_indices[-num_test_samples:]]\n",
    "y_test = Y[random_indices[-num_test_samples:]]"
   ]
  },
  {
   "cell_type": "code",
   "execution_count": null,
   "metadata": {
    "collapsed": false
   },
   "outputs": [],
   "source": [
    "model = tree.DecisionTreeClassifier(min_impurity_split=1e-01)\n",
    "model.fit(x_train,y_train)"
   ]
  },
  {
   "cell_type": "code",
   "execution_count": null,
   "metadata": {
    "collapsed": false
   },
   "outputs": [],
   "source": [
    "# validation_set_predictions = [model.predict(x_val[i].reshape((1,len(x_val[i]))))[0] for i in range(x_val.shape[0])]\n",
    "# validation_misclassification_percentage = 0.0\n",
    "# for i in range(len(validation_set_predictions)):\n",
    "#     if validation_set_predictions[i]!=y_val[i]:\n",
    "#         validation_misclassification_percentage+=1.0\n",
    "# validation_misclassification_percentage *= 100.0/len(y_val)\n",
    "# print 'validation misclassification percentage =', validation_misclassification_percentage, '%'\n",
    "\n",
    "test_set_predictions = [model.predict(x_test[i].reshape((1,len(x_test[i]))))[0] for i in range(x_test.shape[0])]\n",
    "\n",
    "test_misclassification_percentage = 0.0\n",
    "for i in range(len(test_set_predictions)):\n",
    "    if test_set_predictions[i]!=y_test[i]:\n",
    "        test_misclassification_percentage+=1.0\n",
    "test_misclassification_percentage *= 100.0/len(y_test)\n",
    "print 'test misclassification percentage =', test_misclassification_percentage, '%'"
   ]
  }
 ],
 "metadata": {
  "anaconda-cloud": {},
  "kernelspec": {
   "display_name": "Python [Root]",
   "language": "python",
   "name": "Python [Root]"
  },
  "language_info": {
   "codemirror_mode": {
    "name": "ipython",
    "version": 2
   },
   "file_extension": ".py",
   "mimetype": "text/x-python",
   "name": "python",
   "nbconvert_exporter": "python",
   "pygments_lexer": "ipython2",
   "version": "2.7.12"
  }
 },
 "nbformat": 4,
 "nbformat_minor": 0
}
