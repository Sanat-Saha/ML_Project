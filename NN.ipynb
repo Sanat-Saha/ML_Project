{
 "cells": [
  {
   "cell_type": "code",
   "execution_count": 1,
   "metadata": {
    "collapsed": false
   },
   "outputs": [],
   "source": [
    "import numpy as np\n",
    "import csv\n",
    "from sklearn.neural_network import MLPClassifier"
   ]
  },
  {
   "cell_type": "code",
   "execution_count": 3,
   "metadata": {
    "collapsed": false
   },
   "outputs": [],
   "source": [
    "X = np.empty((0,66), float)\n",
    "Y = np.empty(0, str)\n",
    "i = 0\n",
    "r = csv.reader(open('Features/Normalizedfeatures.csv',\"rb\"),delimiter=',') # Here your csv file\n",
    "for l in r:\n",
    "    if i == 1:\n",
    "        X = np.append(X, np.array([l[0:66]]), axis=0)\n",
    "        Y = np.append(Y, np.array([l[66]]), axis=0)\n",
    "    else:\n",
    "        i = 1\n",
    "        features = l[0:66]\n",
    "        output = l[66]\n",
    "        \n",
    "X = X.astype(float)\n",
    "Y = Y.astype(str)"
   ]
  },
  {
   "cell_type": "code",
   "execution_count": 17,
   "metadata": {
    "collapsed": false
   },
   "outputs": [],
   "source": [
    "number_of_samples = len(Y)\n",
    "#Splitting into training, validation and test sets\n",
    "random_indices = np.random.permutation(number_of_samples)\n",
    "#Training set\n",
    "num_training_samples = int(number_of_samples*0.7)\n",
    "x_train = X[random_indices[:num_training_samples]]\n",
    "y_train = Y[random_indices[:num_training_samples]]\n",
    "# #Validation set\n",
    "# num_validation_samples = int(number_of_samples*0.15)\n",
    "# x_val = X[random_indices[num_training_samples : num_training_samples+num_validation_samples]]\n",
    "# y_val = Y[random_indices[num_training_samples: num_training_samples+num_validation_samples]]\n",
    "#Test set\n",
    "num_test_samples = int(number_of_samples*0.3)\n",
    "x_test = X[random_indices[-num_test_samples:]]\n",
    "y_test = Y[random_indices[-num_test_samples:]]\n",
    "\n",
    "# #Visualizing the training data\n",
    "# X_class0 = np.asmatrix([x_train[i] for i in range(len(x_train)) if y_train[i]=='Low']) #Picking only the first two classes\n",
    "# Y_class0 = np.zeros((X_class0.shape[0]),dtype=np.int)\n",
    "# X_class1 = np.asmatrix([x_train[i] for i in range(len(x_train)) if y_train[i]=='High'])\n",
    "# Y_class1 = np.ones((X_class1.shape[0]),dtype=np.int)\n",
    "\n",
    "# plt.scatter(X_class0[:,0], X_class0[:,1],color='red')\n",
    "# plt.scatter(X_class1[:,0], X_class1[:,1],color='blue')\n",
    "# plt.xlabel(features[0])\n",
    "# plt.ylabel(features[1])\n",
    "# plt.legend(['Low','High'])\n",
    "# plt.title('Fig 3: Visualization of training data')\n",
    "# plt.show()"
   ]
  },
  {
   "cell_type": "code",
   "execution_count": 18,
   "metadata": {
    "collapsed": false
   },
   "outputs": [
    {
     "data": {
      "text/plain": [
       "MLPClassifier(activation='relu', alpha=1e-05, batch_size='auto', beta_1=0.9,\n",
       "       beta_2=0.999, early_stopping=False, epsilon=1e-08,\n",
       "       hidden_layer_sizes=(30, 20, 10), learning_rate='constant',\n",
       "       learning_rate_init=0.001, max_iter=200, momentum=0.9,\n",
       "       nesterovs_momentum=True, power_t=0.5, random_state=1, shuffle=True,\n",
       "       solver='lbfgs', tol=0.0001, validation_fraction=0.1, verbose=False,\n",
       "       warm_start=False)"
      ]
     },
     "execution_count": 18,
     "metadata": {},
     "output_type": "execute_result"
    }
   ],
   "source": [
    "model = MLPClassifier(solver='lbfgs', alpha=1e-5,hidden_layer_sizes=(30, 20, 10), random_state=1)\n",
    "model.fit(x_train,y_train)"
   ]
  },
  {
   "cell_type": "code",
   "execution_count": 19,
   "metadata": {
    "collapsed": false
   },
   "outputs": [
    {
     "name": "stdout",
     "output_type": "stream",
     "text": [
      "test misclassification percentage = 13.4146341463 %\n"
     ]
    }
   ],
   "source": [
    "# validation_set_predictions = [model.predict(x_val[i].reshape((1,len(x_val[0]))))[0] for i in range(x_val.shape[0])]\n",
    "# validation_misclassification_percentage = 0.0\n",
    "# for i in range(len(validation_set_predictions)):\n",
    "#     if validation_set_predictions[i]!=y_val[i]:\n",
    "#         validation_misclassification_percentage+=1.0\n",
    "# validation_misclassification_percentage *= 100.0/len(y_val)\n",
    "# print 'validation misclassification percentage =', validation_misclassification_percentage, '%'\n",
    "\n",
    "test_set_predictions = [model.predict(x_test[i].reshape((1,len(x_test[0]))))[0] for i in range(x_test.shape[0])]\n",
    "\n",
    "test_misclassification_percentage = 0.0\n",
    "for i in range(len(test_set_predictions)):\n",
    "    if test_set_predictions[i]!=y_test[i]:\n",
    "        test_misclassification_percentage+=1.0\n",
    "test_misclassification_percentage *= 100.0/len(y_test)\n",
    "print 'test misclassification percentage =', test_misclassification_percentage, '%'"
   ]
  }
 ],
 "metadata": {
  "anaconda-cloud": {},
  "kernelspec": {
   "display_name": "Python [Root]",
   "language": "python",
   "name": "Python [Root]"
  },
  "language_info": {
   "codemirror_mode": {
    "name": "ipython",
    "version": 2
   },
   "file_extension": ".py",
   "mimetype": "text/x-python",
   "name": "python",
   "nbconvert_exporter": "python",
   "pygments_lexer": "ipython2",
   "version": "2.7.12"
  }
 },
 "nbformat": 4,
 "nbformat_minor": 0
}
